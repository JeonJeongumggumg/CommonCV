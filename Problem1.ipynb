{
  "nbformat": 4,
  "nbformat_minor": 0,
  "metadata": {
    "colab": {
      "provenance": [],
      "mount_file_id": "1h3OEqRDni_IAim5P24CU3ZVL8ruqxmR5",
      "authorship_tag": "ABX9TyNoEbYY7q3959w8MGxIEjXg",
      "include_colab_link": true
    },
    "kernelspec": {
      "name": "python3",
      "display_name": "Python 3"
    },
    "language_info": {
      "name": "python"
    }
  },
  "cells": [
    {
      "cell_type": "markdown",
      "metadata": {
        "id": "view-in-github",
        "colab_type": "text"
      },
      "source": [
        "<a href=\"https://colab.research.google.com/github/JeonJeongumggumg/CommonCV/blob/main/Problem1.ipynb\" target=\"_parent\"><img src=\"https://colab.research.google.com/assets/colab-badge.svg\" alt=\"Open In Colab\"/></a>"
      ]
    },
    {
      "cell_type": "markdown",
      "source": [
        "# 응용 문제\n",
        "\n",
        "레나 그레이 영상을 통해 더하기 빼기 곱(1.2) 나누기(0.5)를 수행해볼것"
      ],
      "metadata": {
        "id": "pv-6s848ekCT"
      }
    },
    {
      "cell_type": "code",
      "execution_count": null,
      "metadata": {
        "id": "E0huq09Udon6"
      },
      "outputs": [],
      "source": []
    }
  ]
}