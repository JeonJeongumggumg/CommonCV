{
  "nbformat": 4,
  "nbformat_minor": 0,
  "metadata": {
    "colab": {
      "provenance": [],
      "mount_file_id": "1kKSd9tNsNXGBYPgGTZYQcYkWkH-MgAFW",
      "authorship_tag": "ABX9TyOHRXVdJyNRr56mV/f2zNJx",
      "include_colab_link": true
    },
    "kernelspec": {
      "name": "python3",
      "display_name": "Python 3"
    },
    "language_info": {
      "name": "python"
    }
  },
  "cells": [
    {
      "cell_type": "markdown",
      "metadata": {
        "id": "view-in-github",
        "colab_type": "text"
      },
      "source": [
        "<a href=\"https://colab.research.google.com/github/JeonJeongumggumg/CommonCV/blob/main/AndOrXorNot.ipynb\" target=\"_parent\"><img src=\"https://colab.research.google.com/assets/colab-badge.svg\" alt=\"Open In Colab\"/></a>"
      ]
    },
    {
      "cell_type": "markdown",
      "source": [
        "# 픽셀 비트 연산\n",
        "\n",
        "영상의 픽셀 값을 2진수로 표현한 후, 각 비트마다 And/OR 연산을 수행함\n",
        "\n",
        "->AND연산: 원하는 비트를 선택적으로 0(검정색)으로 만드는 기능(= mask 연산)\n",
        "\n",
        "->OR연산: 특정 비트를 선택적으로 1(흰)로 구성할 수 있어 Selective-set연산이라 할 수 있음\n",
        "\n",
        "dst = cv2.bitwise_and(src1, src2)\n",
        "dst = cv2.bitwise_or(src1, src2)\n",
        "dst = cv2.bitwise_xor(src1, src2)\n",
        "dst = cv2.bitwise_not(src1) - 255에서 빼기만 하면 되니 원본만 필요"
      ],
      "metadata": {
        "id": "fqzZbKy9Z0CJ"
      }
    },
    {
      "cell_type": "code",
      "execution_count": 2,
      "metadata": {
        "id": "mS-6rTHGZcHZ"
      },
      "outputs": [],
      "source": [
        "from google.colab.patches import cv2_imshow\n",
        "import cv2\n",
        "import matplotlib.pyplot as plt"
      ]
    },
    {
      "cell_type": "code",
      "source": [
        "img1 = cv2.imread('/content/drive/MyDrive/교재실습영상/abcdef.bmp')\n",
        "img2 = cv2.imread('/content/drive/MyDrive/교재실습영상/a.bmp')\n",
        "\n",
        "result1 = cv2.bitwise_and(img1, img2)\n",
        "result2 = cv2.bitwise_or(img1, img2)\n",
        "result3 = cv2.bitwise_xor(img1, img2)\n",
        "result4 = cv2.bitwise_not(img1)\n",
        "\n",
        "plt.subplot(141)\n",
        "plt.imshow(result1, cmap='gray')\n",
        "plt.subplot(142)\n",
        "plt.imshow(result2, cmap='gray')\n",
        "plt.subplot(143)\n",
        "plt.imshow(result3, cmap='gray')\n",
        "plt.subplot(144)\n",
        "plt.imshow(result4, cmap='gray')"
      ],
      "metadata": {
        "colab": {
          "base_uri": "https://localhost:8080/",
          "height": 191
        },
        "id": "xidTdwBObMA1",
        "outputId": "908015d6-342b-4da3-a54c-f06c18a5feea"
      },
      "execution_count": 3,
      "outputs": [
        {
          "output_type": "execute_result",
          "data": {
            "text/plain": [
              "<matplotlib.image.AxesImage at 0x7eea505cda50>"
            ]
          },
          "metadata": {},
          "execution_count": 3
        },
        {
          "output_type": "display_data",
          "data": {
            "text/plain": [
              "<Figure size 640x480 with 4 Axes>"
            ],
            "image/png": "[encoded data removed]"
          },
          "metadata": {}
        }
      ]
    }
  ]
}